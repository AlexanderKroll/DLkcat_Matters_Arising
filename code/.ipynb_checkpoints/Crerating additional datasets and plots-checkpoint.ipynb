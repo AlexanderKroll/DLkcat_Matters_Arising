{
 "cells": [
  {
   "cell_type": "code",
   "execution_count": 1,
   "metadata": {},
   "outputs": [
    {
     "name": "stderr",
     "output_type": "stream",
     "text": [
      "\n",
      "Bad key text.latex.preview in file CCB_plot_style_0v4.mplstyle, line 55 ('text.latex.preview  : False')\n",
      "You probably need to get an updated matplotlibrc file from\n",
      "https://github.com/matplotlib/matplotlib/blob/v3.5.2/matplotlibrc.template\n",
      "or from the matplotlib source distribution\n",
      "\n",
      "Bad key mathtext.fallback_to_cm in file CCB_plot_style_0v4.mplstyle, line 63 ('mathtext.fallback_to_cm : True ## When True, use symbols from the Computer Modern fonts')\n",
      "You probably need to get an updated matplotlibrc file from\n",
      "https://github.com/matplotlib/matplotlib/blob/v3.5.2/matplotlibrc.template\n",
      "or from the matplotlib source distribution\n"
     ]
    },
    {
     "name": "stdout",
     "output_type": "stream",
     "text": [
      "C:\\Users\\alexk\\projects\\DLkcat_Matters_Arising\\code\n"
     ]
    }
   ],
   "source": [
    "import numpy as np\n",
    "import matplotlib.pyplot as plt\n",
    "import matplotlib as mpl\n",
    "from sklearn import metrics\n",
    "from scipy import stats\n",
    "from scipy.stats import wilcoxon, pearsonr\n",
    "from sklearn.metrics import roc_auc_score, r2_score\n",
    "import os\n",
    "from os.path import join\n",
    "import pandas as pd\n",
    "import seaborn as sns\n",
    "\n",
    "\n",
    "CURRENT_DIR = os.getcwd()\n",
    "print(CURRENT_DIR)\n",
    "\n",
    "import warnings\n",
    "warnings.filterwarnings(\"ignore\")\n",
    "\n",
    "plt.style.use('CCB_plot_style_0v4.mplstyle');\n",
    "c_styles      = mpl.rcParams['axes.prop_cycle'].by_key()['color']   # fetch the defined color styles\n",
    "high_contrast = ['#004488', '#DDAA33', '#BB5566', '#000000']"
   ]
  },
  {
   "cell_type": "markdown",
   "metadata": {},
   "source": [
    "Loading results from DLkcat paper"
   ]
  },
  {
   "cell_type": "code",
   "execution_count": 2,
   "metadata": {},
   "outputs": [
    {
     "data": {
      "text/html": [
       "<div>\n",
       "<style scoped>\n",
       "    .dataframe tbody tr th:only-of-type {\n",
       "        vertical-align: middle;\n",
       "    }\n",
       "\n",
       "    .dataframe tbody tr th {\n",
       "        vertical-align: top;\n",
       "    }\n",
       "\n",
       "    .dataframe thead th {\n",
       "        text-align: right;\n",
       "    }\n",
       "</style>\n",
       "<table border=\"1\" class=\"dataframe\">\n",
       "  <thead>\n",
       "    <tr style=\"text-align: right;\">\n",
       "      <th></th>\n",
       "      <th>y_true</th>\n",
       "      <th>y_pred</th>\n",
       "      <th>Sequence</th>\n",
       "      <th>max_ident</th>\n",
       "      <th>sim_pred_3</th>\n",
       "      <th>sim_pred_1</th>\n",
       "    </tr>\n",
       "  </thead>\n",
       "  <tbody>\n",
       "    <tr>\n",
       "      <th>0</th>\n",
       "      <td>-2.207608</td>\n",
       "      <td>-0.071899</td>\n",
       "      <td>MSAIDCIITAAGLSSRMGQWKMMLPWEQGTILDTSIKNALQFCSRI...</td>\n",
       "      <td>22.8</td>\n",
       "      <td>-1.486273</td>\n",
       "      <td>-2.275724</td>\n",
       "    </tr>\n",
       "    <tr>\n",
       "      <th>1</th>\n",
       "      <td>-3.657577</td>\n",
       "      <td>-2.707640</td>\n",
       "      <td>MKEFYLTVEQIGDSIFERYIDSNGRERTREVEYKPSLFAHCPESQA...</td>\n",
       "      <td>100.0</td>\n",
       "      <td>-2.369079</td>\n",
       "      <td>-2.221849</td>\n",
       "    </tr>\n",
       "    <tr>\n",
       "      <th>2</th>\n",
       "      <td>0.949390</td>\n",
       "      <td>0.831021</td>\n",
       "      <td>MSPSKMNATVGSTSEVEQKIRQELALSDEVTTIRRNAPAAVLYEDG...</td>\n",
       "      <td>100.0</td>\n",
       "      <td>0.455934</td>\n",
       "      <td>1.230449</td>\n",
       "    </tr>\n",
       "    <tr>\n",
       "      <th>3</th>\n",
       "      <td>1.672098</td>\n",
       "      <td>1.513026</td>\n",
       "      <td>MKNVGFIGWRGMVGSVLMQRMVEERDFDAIRPVFFSTSQLGQAAPS...</td>\n",
       "      <td>100.0</td>\n",
       "      <td>1.045579</td>\n",
       "      <td>1.672098</td>\n",
       "    </tr>\n",
       "    <tr>\n",
       "      <th>4</th>\n",
       "      <td>-1.790485</td>\n",
       "      <td>-2.830310</td>\n",
       "      <td>MATSTETISSLAQPFVHLENPINSPLVKETIRPRNDTTITPPPTQW...</td>\n",
       "      <td>99.4</td>\n",
       "      <td>-1.733113</td>\n",
       "      <td>0.995635</td>\n",
       "    </tr>\n",
       "  </tbody>\n",
       "</table>\n",
       "</div>"
      ],
      "text/plain": [
       "     y_true    y_pred                                           Sequence  \\\n",
       "0 -2.207608 -0.071899  MSAIDCIITAAGLSSRMGQWKMMLPWEQGTILDTSIKNALQFCSRI...   \n",
       "1 -3.657577 -2.707640  MKEFYLTVEQIGDSIFERYIDSNGRERTREVEYKPSLFAHCPESQA...   \n",
       "2  0.949390  0.831021  MSPSKMNATVGSTSEVEQKIRQELALSDEVTTIRRNAPAAVLYEDG...   \n",
       "3  1.672098  1.513026  MKNVGFIGWRGMVGSVLMQRMVEERDFDAIRPVFFSTSQLGQAAPS...   \n",
       "4 -1.790485 -2.830310  MATSTETISSLAQPFVHLENPINSPLVKETIRPRNDTTITPPPTQW...   \n",
       "\n",
       "   max_ident  sim_pred_3  sim_pred_1  \n",
       "0       22.8   -1.486273   -2.275724  \n",
       "1      100.0   -2.369079   -2.221849  \n",
       "2      100.0    0.455934    1.230449  \n",
       "3      100.0    1.045579    1.672098  \n",
       "4       99.4   -1.733113    0.995635  "
      ]
     },
     "execution_count": 2,
     "metadata": {},
     "output_type": "execute_result"
    }
   ],
   "source": [
    "data_test_DLkcat = pd.read_pickle(join( \"..\", \"data\", \"DLkcat\", \"df_pred.pkl\"))\n",
    "data_test_DLkcat.head()"
   ]
  },
  {
   "cell_type": "code",
   "execution_count": 3,
   "metadata": {},
   "outputs": [
    {
     "data": {
      "text/html": [
       "<div>\n",
       "<style scoped>\n",
       "    .dataframe tbody tr th:only-of-type {\n",
       "        vertical-align: middle;\n",
       "    }\n",
       "\n",
       "    .dataframe tbody tr th {\n",
       "        vertical-align: top;\n",
       "    }\n",
       "\n",
       "    .dataframe thead th {\n",
       "        text-align: right;\n",
       "    }\n",
       "</style>\n",
       "<table border=\"1\" class=\"dataframe\">\n",
       "  <thead>\n",
       "    <tr style=\"text-align: right;\">\n",
       "      <th></th>\n",
       "      <th>y_true</th>\n",
       "      <th>Sequence</th>\n",
       "    </tr>\n",
       "  </thead>\n",
       "  <tbody>\n",
       "    <tr>\n",
       "      <th>0</th>\n",
       "      <td>-1.029963</td>\n",
       "      <td>MESAIDTHLKCPRTLSRRVPEEYQPPFPMWVARADEQLQQVVMGYL...</td>\n",
       "    </tr>\n",
       "    <tr>\n",
       "      <th>1</th>\n",
       "      <td>-0.853872</td>\n",
       "      <td>MLKIFNTLTRQKEEFKPIHAGEVGMYVCGITVYDLCHIGHGRTFVA...</td>\n",
       "    </tr>\n",
       "    <tr>\n",
       "      <th>2</th>\n",
       "      <td>-1.273001</td>\n",
       "      <td>MSSKLHCVKLNDGHFIPALGFGTYKPKEVPKSKSLEAAHLAIDVGY...</td>\n",
       "    </tr>\n",
       "    <tr>\n",
       "      <th>3</th>\n",
       "      <td>0.213075</td>\n",
       "      <td>MALSAIGFEGYEKRLEVTFFEPSIFQDSKGLGLRALTKSQLDEILT...</td>\n",
       "    </tr>\n",
       "    <tr>\n",
       "      <th>4</th>\n",
       "      <td>2.992995</td>\n",
       "      <td>MGFTKKSLDQIDVKDKRVFMRVDFNVPMEKGKITNTKRIDATIPSI...</td>\n",
       "    </tr>\n",
       "  </tbody>\n",
       "</table>\n",
       "</div>"
      ],
      "text/plain": [
       "     y_true                                           Sequence\n",
       "0 -1.029963  MESAIDTHLKCPRTLSRRVPEEYQPPFPMWVARADEQLQQVVMGYL...\n",
       "1 -0.853872  MLKIFNTLTRQKEEFKPIHAGEVGMYVCGITVYDLCHIGHGRTFVA...\n",
       "2 -1.273001  MSSKLHCVKLNDGHFIPALGFGTYKPKEVPKSKSLEAAHLAIDVGY...\n",
       "3  0.213075  MALSAIGFEGYEKRLEVTFFEPSIFQDSKGLGLRALTKSQLDEILT...\n",
       "4  2.992995  MGFTKKSLDQIDVKDKRVFMRVDFNVPMEKGKITNTKRIDATIPSI..."
      ]
     },
     "execution_count": 3,
     "metadata": {},
     "output_type": "execute_result"
    }
   ],
   "source": [
    "data_valid_DLkcat = pd.read_pickle(join(\"..\", \"data\", \"DLkcat\", \"df_validation.pkl\"))\n",
    "data_valid_DLkcat.head()"
   ]
  },
  {
   "cell_type": "code",
   "execution_count": 4,
   "metadata": {},
   "outputs": [
    {
     "name": "stdout",
     "output_type": "stream",
     "text": [
      "0.42000166391555804\n",
      "0.44447253110852536\n",
      "4.907609076934498e-05\n"
     ]
    }
   ],
   "source": [
    "help_df =data_test_DLkcat\n",
    "\n",
    "y_true = np.array(help_df[\"y_true\"])\n",
    "y_pred = np.array(help_df[\"sim_pred_3\"])\n",
    "abs_error_sim = abs(y_true - y_pred)\n",
    "R2_sim =  r2_score(y_true, y_pred)\n",
    "print(R2_sim)\n",
    "\n",
    "y_true = np.array(help_df[\"y_true\"])\n",
    "y_pred = np.array(help_df[\"y_pred\"])\n",
    "abs_error = abs(y_true - y_pred)\n",
    "R2 =  r2_score(y_true, y_pred)\n",
    "print(R2)\n",
    "\n",
    "d = abs_error- abs_error_sim\n",
    "w, p = wilcoxon(d, alternative='less')\n",
    "print(p)"
   ]
  },
  {
   "cell_type": "code",
   "execution_count": 5,
   "metadata": {},
   "outputs": [
    {
     "name": "stdout",
     "output_type": "stream",
     "text": [
      "9.815218153868996e-05\n"
     ]
    }
   ],
   "source": [
    "d = abs_error- abs_error_sim\n",
    "w, p = wilcoxon(d, alternative='two-sided')\n",
    "print(p)"
   ]
  },
  {
   "cell_type": "markdown",
   "metadata": {},
   "source": [
    "##### (b)(ii) Plotting performances for different sequence identities:"
   ]
  },
  {
   "cell_type": "code",
   "execution_count": 6,
   "metadata": {},
   "outputs": [],
   "source": [
    "data_test = data_test_DLkcat\n",
    "data_test[\"sim_pred\"] = data_test[\"sim_pred_3\"]"
   ]
  },
  {
   "cell_type": "code",
   "execution_count": 7,
   "metadata": {},
   "outputs": [],
   "source": [
    "df = pd.DataFrame({\"kcat_true\" : data_test_DLkcat[\"y_true\"], \n",
    "                  \"kcat_predicted(DLKcat)\" : data_test_DLkcat[\"y_pred\"],\n",
    "                   \"kcat_predicted(mean-approach[3])\" : data_test_DLkcat[\"sim_pred\"],\n",
    "                   \"kcat_predicted(mean-approach[1])\" : data_test_DLkcat[\"sim_pred_1\"],\n",
    "                  \"Sequence identity\" : data_test_DLkcat[\"max_ident\"]})"
   ]
  },
  {
   "cell_type": "code",
   "execution_count": 8,
   "metadata": {},
   "outputs": [],
   "source": [
    "df_enz_type = pd.read_csv(join( \"..\", \"data\", \"DLkcat\", \"test_out.tsv\"), sep =\"\\t\")\n",
    "\n",
    "df[\"enzyme type\"] = df_enz_type[\"Enzyme_type\"]"
   ]
  },
  {
   "cell_type": "code",
   "execution_count": 9,
   "metadata": {},
   "outputs": [],
   "source": [
    "df.to_csv( join( \"..\", \"data\", \"DLkcat\", \"figure_data\", \"test_data_DLKcat.csv\"), index=False)"
   ]
  },
  {
   "cell_type": "code",
   "execution_count": 10,
   "metadata": {},
   "outputs": [
    {
     "data": {
      "text/html": [
       "<div>\n",
       "<style scoped>\n",
       "    .dataframe tbody tr th:only-of-type {\n",
       "        vertical-align: middle;\n",
       "    }\n",
       "\n",
       "    .dataframe tbody tr th {\n",
       "        vertical-align: top;\n",
       "    }\n",
       "\n",
       "    .dataframe thead th {\n",
       "        text-align: right;\n",
       "    }\n",
       "</style>\n",
       "<table border=\"1\" class=\"dataframe\">\n",
       "  <thead>\n",
       "    <tr style=\"text-align: right;\">\n",
       "      <th></th>\n",
       "      <th>y_true</th>\n",
       "      <th>y_pred</th>\n",
       "      <th>Sequence</th>\n",
       "      <th>max_ident</th>\n",
       "      <th>sim_pred_3</th>\n",
       "      <th>sim_pred_1</th>\n",
       "      <th>sim_pred</th>\n",
       "      <th>log10_kcat</th>\n",
       "    </tr>\n",
       "  </thead>\n",
       "  <tbody>\n",
       "    <tr>\n",
       "      <th>0</th>\n",
       "      <td>-2.207608</td>\n",
       "      <td>-0.071899</td>\n",
       "      <td>MSAIDCIITAAGLSSRMGQWKMMLPWEQGTILDTSIKNALQFCSRI...</td>\n",
       "      <td>22.8</td>\n",
       "      <td>-1.486273</td>\n",
       "      <td>-2.275724</td>\n",
       "      <td>-1.486273</td>\n",
       "      <td>-2.2076</td>\n",
       "    </tr>\n",
       "    <tr>\n",
       "      <th>1</th>\n",
       "      <td>-3.657577</td>\n",
       "      <td>-2.707640</td>\n",
       "      <td>MKEFYLTVEQIGDSIFERYIDSNGRERTREVEYKPSLFAHCPESQA...</td>\n",
       "      <td>100.0</td>\n",
       "      <td>-2.369079</td>\n",
       "      <td>-2.221849</td>\n",
       "      <td>-2.369079</td>\n",
       "      <td>-3.6576</td>\n",
       "    </tr>\n",
       "    <tr>\n",
       "      <th>2</th>\n",
       "      <td>0.949390</td>\n",
       "      <td>0.831021</td>\n",
       "      <td>MSPSKMNATVGSTSEVEQKIRQELALSDEVTTIRRNAPAAVLYEDG...</td>\n",
       "      <td>100.0</td>\n",
       "      <td>0.455934</td>\n",
       "      <td>1.230449</td>\n",
       "      <td>0.455934</td>\n",
       "      <td>0.9494</td>\n",
       "    </tr>\n",
       "    <tr>\n",
       "      <th>3</th>\n",
       "      <td>1.672098</td>\n",
       "      <td>1.513026</td>\n",
       "      <td>MKNVGFIGWRGMVGSVLMQRMVEERDFDAIRPVFFSTSQLGQAAPS...</td>\n",
       "      <td>100.0</td>\n",
       "      <td>1.045579</td>\n",
       "      <td>1.672098</td>\n",
       "      <td>1.045579</td>\n",
       "      <td>1.6721</td>\n",
       "    </tr>\n",
       "    <tr>\n",
       "      <th>4</th>\n",
       "      <td>-1.790485</td>\n",
       "      <td>-2.830310</td>\n",
       "      <td>MATSTETISSLAQPFVHLENPINSPLVKETIRPRNDTTITPPPTQW...</td>\n",
       "      <td>99.4</td>\n",
       "      <td>-1.733113</td>\n",
       "      <td>0.995635</td>\n",
       "      <td>-1.733113</td>\n",
       "      <td>-1.7905</td>\n",
       "    </tr>\n",
       "  </tbody>\n",
       "</table>\n",
       "</div>"
      ],
      "text/plain": [
       "     y_true    y_pred                                           Sequence  \\\n",
       "0 -2.207608 -0.071899  MSAIDCIITAAGLSSRMGQWKMMLPWEQGTILDTSIKNALQFCSRI...   \n",
       "1 -3.657577 -2.707640  MKEFYLTVEQIGDSIFERYIDSNGRERTREVEYKPSLFAHCPESQA...   \n",
       "2  0.949390  0.831021  MSPSKMNATVGSTSEVEQKIRQELALSDEVTTIRRNAPAAVLYEDG...   \n",
       "3  1.672098  1.513026  MKNVGFIGWRGMVGSVLMQRMVEERDFDAIRPVFFSTSQLGQAAPS...   \n",
       "4 -1.790485 -2.830310  MATSTETISSLAQPFVHLENPINSPLVKETIRPRNDTTITPPPTQW...   \n",
       "\n",
       "   max_ident  sim_pred_3  sim_pred_1  sim_pred  log10_kcat  \n",
       "0       22.8   -1.486273   -2.275724 -1.486273     -2.2076  \n",
       "1      100.0   -2.369079   -2.221849 -2.369079     -3.6576  \n",
       "2      100.0    0.455934    1.230449  0.455934      0.9494  \n",
       "3      100.0    1.045579    1.672098  1.045579      1.6721  \n",
       "4       99.4   -1.733113    0.995635 -1.733113     -1.7905  "
      ]
     },
     "execution_count": 10,
     "metadata": {},
     "output_type": "execute_result"
    }
   ],
   "source": [
    "data_valid_DLkcat[\"log10_kcat\"] = np.round(data_valid_DLkcat[\"y_true\"],4)\n",
    "\n",
    "data_test_DLkcat[\"log10_kcat\"] = np.round(data_test_DLkcat[\"y_true\"],4)\n",
    "data_test_DLkcat.head()"
   ]
  },
  {
   "cell_type": "code",
   "execution_count": 11,
   "metadata": {},
   "outputs": [
    {
     "name": "stdout",
     "output_type": "stream",
     "text": [
      "Inosine 0.866184704407117\n",
      "Glycerate 3-phosphate 0.596569315767481\n",
      "Penicillin G 0.6935281896676339\n",
      "Isopentenyl diphosphate 0.7783108026460629\n",
      "L-Aspartate 0.5762686065852022\n",
      "7,8-Dihydrofolate 0.9202762763100331\n"
     ]
    }
   ],
   "source": [
    "df_3c = pd.read_csv(join( \"..\", \"data\", \"DLkcat\", \"figure_data\", \"figure3c.csv\"), sep =\";\")\n",
    "\n",
    "sub_names = list(set(df_3c[\"Substrate name\"]))\n",
    "for sub in sub_names:\n",
    "    help_df = df_3c.loc[df_3c[\"Substrate name\"] == sub]\n",
    "    y_pred, y_true = help_df[\"Predicted value (log10 scale)\"], help_df[\"Experimental value (log10 scale)\"]\n",
    "    print(sub, stats.pearsonr(y_true, y_pred)[0])"
   ]
  },
  {
   "cell_type": "code",
   "execution_count": 12,
   "metadata": {},
   "outputs": [
    {
     "name": "stdout",
     "output_type": "stream",
     "text": [
      "Inosine 0.866184704407117\n",
      "Glycerate 3-phosphate 0.596569315767481\n",
      "Penicillin G 0.8388768284932409\n",
      "Isopentenyl diphosphate 0.8008908546724548\n",
      "L-Aspartate 0.5762686065852022\n",
      "7,8-Dihydrofolate 0.9112926364864379\n"
     ]
    }
   ],
   "source": [
    "df_3d = pd.read_csv(join( \"..\", \"data\", \"DLkcat\", \"figure_data\", \"figure3d.csv\"), sep =\";\")\n",
    "\n",
    "sub_names = list(set(df_3d[\"Substrate name\"]))\n",
    "for sub in sub_names:\n",
    "    help_df = df_3d.loc[df_3d[\"Substrate name\"] == sub]\n",
    "    y_pred, y_true = help_df[\"Predicted value (log10 scale)\"], help_df[\"Experimental value (log10 scale)\"]\n",
    "    print(sub, stats.pearsonr(y_true, y_pred)[0])"
   ]
  },
  {
   "cell_type": "code",
   "execution_count": 13,
   "metadata": {},
   "outputs": [
    {
     "data": {
      "text/html": [
       "<div>\n",
       "<style scoped>\n",
       "    .dataframe tbody tr th:only-of-type {\n",
       "        vertical-align: middle;\n",
       "    }\n",
       "\n",
       "    .dataframe tbody tr th {\n",
       "        vertical-align: top;\n",
       "    }\n",
       "\n",
       "    .dataframe thead th {\n",
       "        text-align: right;\n",
       "    }\n",
       "</style>\n",
       "<table border=\"1\" class=\"dataframe\">\n",
       "  <thead>\n",
       "    <tr style=\"text-align: right;\">\n",
       "      <th></th>\n",
       "      <th>ECNumber</th>\n",
       "      <th>Organism</th>\n",
       "      <th>Smiles</th>\n",
       "      <th>Substrate</th>\n",
       "      <th>Sequence</th>\n",
       "      <th>Value</th>\n",
       "      <th>Unit</th>\n",
       "    </tr>\n",
       "  </thead>\n",
       "  <tbody>\n",
       "    <tr>\n",
       "      <th>0</th>\n",
       "      <td>4.2.3.4</td>\n",
       "      <td>Actinidia chinensis</td>\n",
       "      <td>C(C(C(C(COP(=O)(O)O)O)O)O)C(=O)C(=O)O</td>\n",
       "      <td>3-deoxy-D-arabino-heptulosonic acid 7-phosphate</td>\n",
       "      <td>MAAFSLSAKQILSPSTHRPSLSKTTTADSSLRFRNPHSLSLRCSSL...</td>\n",
       "      <td>20.1000</td>\n",
       "      <td>s^(-1)</td>\n",
       "    </tr>\n",
       "    <tr>\n",
       "      <th>1</th>\n",
       "      <td>4.2.3.4</td>\n",
       "      <td>Aspergillus nidulans</td>\n",
       "      <td>C(C(C(C(COP(=O)([O-])[O-])O)O)O)C(=O)C(=O)[O-]</td>\n",
       "      <td>3-deoxy-D-arabino-heptulosonate 7-phosphate</td>\n",
       "      <td>MSNPTKISILGRESIIADFGLWRNYVAKDLISDCSSTTYVLVTDTN...</td>\n",
       "      <td>6.8000</td>\n",
       "      <td>s^(-1)</td>\n",
       "    </tr>\n",
       "    <tr>\n",
       "      <th>2</th>\n",
       "      <td>4.2.3.4</td>\n",
       "      <td>Neurospora crassa</td>\n",
       "      <td>C(C(C(C(COP(=O)(O)O)O)O)O)C(=O)C(=O)O</td>\n",
       "      <td>3-deoxy-D-arabino-heptulosonic acid 7-phosphate</td>\n",
       "      <td>MAEPISNPTRINILGKDNIIIDHGIWLNFVAQDLLQNIKSSTYILI...</td>\n",
       "      <td>19.0000</td>\n",
       "      <td>s^(-1)</td>\n",
       "    </tr>\n",
       "    <tr>\n",
       "      <th>3</th>\n",
       "      <td>2.1.1.255</td>\n",
       "      <td>Streptomyces coelicolor</td>\n",
       "      <td>C[S+](CCC(C(=O)[O-])N)CC1C(C(C(O1)N2C=NC3=C(N=...</td>\n",
       "      <td>S-Adenosyl-L-methionine</td>\n",
       "      <td>MTTETTTATATAKIPAPATPYQEDIARYWNNEARPVNLRLGDVDGL...</td>\n",
       "      <td>0.0075</td>\n",
       "      <td>s^(-1)</td>\n",
       "    </tr>\n",
       "    <tr>\n",
       "      <th>4</th>\n",
       "      <td>2.1.1.255</td>\n",
       "      <td>Streptomyces coelicolor</td>\n",
       "      <td>CC(=CCCC(=C(C)COP(=O)(O)OP(=O)(O)O)C)C</td>\n",
       "      <td>(E)-2-Methylgeranyl diphosphate</td>\n",
       "      <td>MTTETTTATATAKIPAPATPYQEDIARYWNNEARPVNLRLGDVDGL...</td>\n",
       "      <td>0.0390</td>\n",
       "      <td>s^(-1)</td>\n",
       "    </tr>\n",
       "  </tbody>\n",
       "</table>\n",
       "</div>"
      ],
      "text/plain": [
       "    ECNumber                 Organism  \\\n",
       "0    4.2.3.4      Actinidia chinensis   \n",
       "1    4.2.3.4     Aspergillus nidulans   \n",
       "2    4.2.3.4        Neurospora crassa   \n",
       "3  2.1.1.255  Streptomyces coelicolor   \n",
       "4  2.1.1.255  Streptomyces coelicolor   \n",
       "\n",
       "                                              Smiles  \\\n",
       "0              C(C(C(C(COP(=O)(O)O)O)O)O)C(=O)C(=O)O   \n",
       "1     C(C(C(C(COP(=O)([O-])[O-])O)O)O)C(=O)C(=O)[O-]   \n",
       "2              C(C(C(C(COP(=O)(O)O)O)O)O)C(=O)C(=O)O   \n",
       "3  C[S+](CCC(C(=O)[O-])N)CC1C(C(C(O1)N2C=NC3=C(N=...   \n",
       "4             CC(=CCCC(=C(C)COP(=O)(O)OP(=O)(O)O)C)C   \n",
       "\n",
       "                                         Substrate  \\\n",
       "0  3-deoxy-D-arabino-heptulosonic acid 7-phosphate   \n",
       "1      3-deoxy-D-arabino-heptulosonate 7-phosphate   \n",
       "2  3-deoxy-D-arabino-heptulosonic acid 7-phosphate   \n",
       "3                          S-Adenosyl-L-methionine   \n",
       "4                  (E)-2-Methylgeranyl diphosphate   \n",
       "\n",
       "                                            Sequence    Value    Unit  \n",
       "0  MAAFSLSAKQILSPSTHRPSLSKTTTADSSLRFRNPHSLSLRCSSL...  20.1000  s^(-1)  \n",
       "1  MSNPTKISILGRESIIADFGLWRNYVAKDLISDCSSTTYVLVTDTN...   6.8000  s^(-1)  \n",
       "2  MAEPISNPTRINILGKDNIIIDHGIWLNFVAQDLLQNIKSSTYILI...  19.0000  s^(-1)  \n",
       "3  MTTETTTATATAKIPAPATPYQEDIARYWNNEARPVNLRLGDVDGL...   0.0075  s^(-1)  \n",
       "4  MTTETTTATATAKIPAPATPYQEDIARYWNNEARPVNLRLGDVDGL...   0.0390  s^(-1)  "
      ]
     },
     "execution_count": 13,
     "metadata": {},
     "output_type": "execute_result"
    }
   ],
   "source": [
    "df_all_kcat = pd.read_json(join( \"..\", \"data\", \"DLkcat\", 'Kcat_combination_0918.json'))\n",
    "df_all_kcat.head()"
   ]
  },
  {
   "cell_type": "code",
   "execution_count": 14,
   "metadata": {},
   "outputs": [],
   "source": [
    "df_3c[\"Value\"]  = np.round(10**df_3c[\"Experimental value (log10 scale)\"], 4)\n",
    "df_all_kcat[\"Value\"] = np.round(df_all_kcat[\"Value\"] ,4)\n",
    "df_3c[\"Sequence\"] = np.nan\n",
    "for ind in df_3c.index:\n",
    "    ec, sub, value = df_3c[\"EC number\"][ind], df_3c[\"Substrate name\"][ind], df_3c[\"Value\"][ind]\n",
    "    help_df = df_all_kcat.loc[df_all_kcat[\"ECNumber\"] == ec].loc[df_all_kcat[\"Substrate\"] == sub].loc[df_all_kcat[\"Value\"] == value]\n",
    "    seq = list(help_df[\"Sequence\"])[0]\n",
    "    df_3c[\"Sequence\"][ind] = seq\n",
    "    "
   ]
  },
  {
   "cell_type": "code",
   "execution_count": 15,
   "metadata": {},
   "outputs": [],
   "source": [
    "df_3c[\"split\"] = np.nan\n",
    "df_3c[\"Identity\"] = np.nan\n",
    "for ind in df_3c.index:\n",
    "    seq, kcat = df_3c[\"Sequence\"][ind], np.round(df_3c[\"Experimental value (log10 scale)\"][ind],4)\n",
    "    help_df = data_test_DLkcat.loc[data_test_DLkcat[\"Sequence\"] == seq].loc[data_test_DLkcat[\"log10_kcat\"] == kcat]\n",
    "    help_df2 = data_valid_DLkcat.loc[data_valid_DLkcat[\"Sequence\"] == seq].loc[data_valid_DLkcat[\"log10_kcat\"] == kcat]\n",
    "    if len(help_df) == 0 and len(help_df2) == 0:\n",
    "        df_3c[\"split\"][ind] = \"train\"\n",
    "        df_3c[\"Identity\"][ind] = 100\n",
    "    elif len(help_df) >0:\n",
    "        df_3c[\"split\"][ind] = \"test\"\n",
    "        df_3c[\"Identity\"][ind] = list(help_df[\"max_ident\"])[0]\n",
    "    elif len(help_df2) >0:\n",
    "        df_3c[\"split\"][ind] = \"validation\"\n",
    "        df_3c[\"Identity\"][ind] = np.nan"
   ]
  },
  {
   "cell_type": "code",
   "execution_count": 16,
   "metadata": {},
   "outputs": [
    {
     "data": {
      "text/plain": [
       "0.125"
      ]
     },
     "execution_count": 16,
     "metadata": {},
     "output_type": "execute_result"
    }
   ],
   "source": [
    "len(df_3c.loc[df_3c[\"split\"] == \"validation\"])/len(df_3c)"
   ]
  },
  {
   "cell_type": "code",
   "execution_count": 17,
   "metadata": {},
   "outputs": [
    {
     "data": {
      "text/plain": [
       "0.15625"
      ]
     },
     "execution_count": 17,
     "metadata": {},
     "output_type": "execute_result"
    }
   ],
   "source": [
    "len(df_3c.loc[df_3c[\"split\"] == \"test\"])/len(df_3c)"
   ]
  },
  {
   "cell_type": "code",
   "execution_count": 18,
   "metadata": {},
   "outputs": [
    {
     "data": {
      "text/plain": [
       "0.71875"
      ]
     },
     "execution_count": 18,
     "metadata": {},
     "output_type": "execute_result"
    }
   ],
   "source": [
    "len(df_3c.loc[df_3c[\"split\"] == \"train\"])/len(df_3c)"
   ]
  },
  {
   "cell_type": "code",
   "execution_count": 19,
   "metadata": {},
   "outputs": [],
   "source": [
    "df_3c[\"split\"] = np.nan\n",
    "df_3c[\"Identity\"] = np.nan\n",
    "for ind in df_3c.index:\n",
    "    seq, kcat = df_3c[\"Sequence\"][ind], np.round(df_3c[\"Experimental value (log10 scale)\"][ind],4)\n",
    "    help_df = data_test_DLkcat.loc[data_test_DLkcat[\"Sequence\"] == seq].loc[data_test_DLkcat[\"log10_kcat\"] == kcat]\n",
    "    if len(help_df) == 0:\n",
    "        df_3c[\"split\"][ind] = \"train\"\n",
    "        df_3c[\"Identity\"][ind] = 100\n",
    "    else:\n",
    "        df_3c[\"split\"][ind] = \"test\"\n",
    "        df_3c[\"Identity\"][ind] = list(help_df[\"max_ident\"])[0]\n",
    "\n",
    "df_3c.to_csv(join( \"..\", \"data\", \"DLkcat\", \"figure_data\", \"figure3c_additional_information.csv\"), index=False)"
   ]
  },
  {
   "cell_type": "code",
   "execution_count": 20,
   "metadata": {},
   "outputs": [],
   "source": [
    "df_3d[\"Value\"]  = np.round(10**df_3d[\"Experimental value (log10 scale)\"], 4)\n",
    "df_all_kcat[\"Value\"] = np.round(df_all_kcat[\"Value\"] ,4)\n",
    "df_3d[\"Sequence\"] = np.nan\n",
    "for ind in df_3d.index:\n",
    "    sub, value =  df_3d[\"Substrate name\"][ind], df_3d[\"Value\"][ind]\n",
    "    help_df = df_all_kcat.loc[df_all_kcat[\"Substrate\"] == sub].loc[df_all_kcat[\"Value\"] == value]\n",
    "    seq = list(help_df[\"Sequence\"])[0]\n",
    "    df_3d[\"Sequence\"][ind] = seq\n",
    "    \n",
    "    \n",
    "df_3d[\"split\"] = np.nan\n",
    "df_3d[\"Identity\"] = np.nan\n",
    "for ind in df_3d.index:\n",
    "    seq, kcat = df_3d[\"Sequence\"][ind], np.round(df_3d[\"Experimental value (log10 scale)\"][ind],4)\n",
    "    help_df = data_test_DLkcat.loc[data_test_DLkcat[\"Sequence\"] == seq].loc[data_test_DLkcat[\"log10_kcat\"] == kcat]\n",
    "    if len(help_df) == 0:\n",
    "        df_3d[\"split\"][ind] = \"train\"\n",
    "        df_3d[\"Identity\"][ind] = 100\n",
    "    else:\n",
    "        df_3d[\"split\"][ind] = \"test\"\n",
    "        df_3d[\"Identity\"][ind] = list(help_df[\"max_ident\"])[0]\n",
    "\n",
    "df_3d.to_csv(join( \"..\", \"data\", \"DLkcat\", \"figure_data\", \"figure3d_additional_information.csv\"), index=False)"
   ]
  },
  {
   "cell_type": "code",
   "execution_count": 21,
   "metadata": {},
   "outputs": [
    {
     "data": {
      "text/plain": [
       "99.4"
      ]
     },
     "execution_count": 21,
     "metadata": {},
     "output_type": "execute_result"
    }
   ],
   "source": [
    "min(df_3d[\"Identity\"])"
   ]
  },
  {
   "cell_type": "markdown",
   "metadata": {},
   "source": [
    "Data Analysis:"
   ]
  },
  {
   "cell_type": "code",
   "execution_count": 22,
   "metadata": {},
   "outputs": [
    {
     "name": "stdout",
     "output_type": "stream",
     "text": [
      "0.6787410926365796\n",
      "0.2333729216152019\n"
     ]
    }
   ],
   "source": [
    "def R2(y, y_hat):\n",
    "    y_bar = y.mean()\n",
    "    RSS = ((y-y_hat)**2).sum()\n",
    "    TSS = ((y-y_bar)**2).sum()\n",
    "    return 1 - RSS/TSS\n",
    "\n",
    "# read data:\n",
    "df = pd.read_csv(join(\"..\", \"data\", \"DLkcat\", \"figure_data\", \"test_data_DLKcat.csv\"))\n",
    "print(df[df[\"Sequence identity\"] == 100].shape[0] / df.shape[0])  # 67.87% of data is 100% identical\n",
    "print(df[(df[\"Sequence identity\"] < 100) & (df[\"Sequence identity\"] >= 99)].shape[0] / df.shape[0])   # 23.34% of data is >=99%, but <100% identical"
   ]
  },
  {
   "cell_type": "code",
   "execution_count": 23,
   "metadata": {},
   "outputs": [
    {
     "name": "stdout",
     "output_type": "stream",
     "text": [
      "Coefficient of determination DLKcat =  0.44447253110852536\n",
      "Coefficient of determination mean approach =  0.42000166391555804\n"
     ]
    }
   ],
   "source": [
    "# total R2:\n",
    "y = df[\"kcat_true\"]\n",
    "y_hat = df[\"kcat_predicted(DLKcat)\"]\n",
    "print(\"Coefficient of determination DLKcat = \", R2(y, y_hat))  # 0.4445\n",
    "y_hat = df[\"kcat_predicted(mean-approach[3])\"]\n",
    "print(\"Coefficient of determination mean approach = \", R2(y, y_hat))  # 0.4524"
   ]
  },
  {
   "cell_type": "code",
   "execution_count": 24,
   "metadata": {},
   "outputs": [
    {
     "name": "stdout",
     "output_type": "stream",
     "text": [
      "0.5467151929619298 0.5011085255451959\n"
     ]
    }
   ],
   "source": [
    "# calculate R2 for test data with 100% sequence.identity for Fig. 1:\n",
    "df_100 = df[df[\"Sequence identity\"] == 100]\n",
    "R2_DLKcat_100 = R2(df_100[\"kcat_true\"], df_100[\"kcat_predicted(DLKcat)\"]) # 0.547\n",
    "R2_mean3_100 = R2(df_100[\"kcat_true\"], df_100[\"kcat_predicted(mean-approach[3])\"])   # 0.533\n",
    "print(R2_DLKcat_100, R2_mean3_100)"
   ]
  },
  {
   "cell_type": "code",
   "execution_count": 25,
   "metadata": {},
   "outputs": [],
   "source": [
    "# calculate R2 in sliding windows for Fig. 1: \n",
    "win = 100 # window size\n",
    "df_sort = df.sort_values(\"Sequence identity\", ascending=False) # sort by increasing sequence.identity\n",
    "df_sort_99 = df_sort[df_sort[\"Sequence identity\"] < 100] # exclude sequences that are 100% identical to training data\n",
    "R2_slide =  pd.DataFrame(columns=[\"meanID\", \"R2.DLKcat\", \"R2.mean3\"])\n",
    "for i in range(df_sort_99.shape[0] - win + 1):\n",
    "    df_i = df_sort_99.iloc[i:(i+win-1)]\n",
    "    R2_slide.loc[i, \"meanID\"] = df_i[\"Sequence identity\"].mean()\n",
    "    R2_slide.loc[i, \"R2.DLKcat\"] = R2(df_i[\"kcat_true\"], df_i[\"kcat_predicted(DLKcat)\"])\n",
    "    R2_slide.loc[i, \"R2.mean3\"] = R2(df_i[\"kcat_true\"], df_i[\"kcat_predicted(mean-approach[3])\"])"
   ]
  },
  {
   "cell_type": "code",
   "execution_count": 26,
   "metadata": {},
   "outputs": [
    {
     "data": {
      "text/plain": [
       "0.5011085255451959"
      ]
     },
     "execution_count": 26,
     "metadata": {},
     "output_type": "execute_result"
    }
   ],
   "source": [
    "R2_mean3_100"
   ]
  },
  {
   "cell_type": "code",
   "execution_count": 27,
   "metadata": {},
   "outputs": [
    {
     "data": {
      "text/plain": [
       "0.5011085255451959"
      ]
     },
     "execution_count": 27,
     "metadata": {},
     "output_type": "execute_result"
    }
   ],
   "source": [
    "R2_mean3_100"
   ]
  },
  {
   "cell_type": "code",
   "execution_count": 28,
   "metadata": {},
   "outputs": [
    {
     "data": {
      "image/png": "[encoded data removed]",
      "text/plain": [
       "<Figure size 720x576 with 1 Axes>"
      ]
     },
     "metadata": {
      "needs_background": "light"
     },
     "output_type": "display_data"
    }
   ],
   "source": [
    "# Fig. 1:\n",
    "fig, ax = plt.subplots(figsize= (10,8))\n",
    "plt.rcParams.update({'font.size': 28})\n",
    "\n",
    "R2_slide_long = pd.melt(R2_slide, id_vars=\"meanID\")\n",
    "sns.lineplot(x=\"meanID\", y=\"value\",  data=R2_slide_long.loc[R2_slide_long[\"variable\"] == \"R2.mean3\"], color=\"#008b8b\",\n",
    "             label = \"$\\it{R²}$ mean3\")\n",
    "sns.lineplot(x=\"meanID\", y=\"value\", data=R2_slide_long.loc[R2_slide_long[\"variable\"] == \"R2.DLKcat\"], color=\"red\",\n",
    "            label = \"$\\it{R²}$ DLKcat\")\n",
    "plt.xlabel(\"Mean sequence identity (%)\")\n",
    "plt.ylabel(\"Coefficient of determination $\\it{R²}$\")\n",
    "plt.xlim(30, 108)\n",
    "sns.scatterplot([100],[R2_mean3_100], color=\"#008b8b\", s=180)\n",
    "sns.scatterplot([100],[R2_DLKcat_100], color=\"red\", s=180)\n",
    "#sns.scatterplot(x=100, y=R2_mean3_100, color=\"cyan\", size=2)\n",
    "#sns.scatterplot(x=100, y=R2_DLKcat_100, color=\"red\", size=2)\n",
    "plt.annotate(\"100%\", xy=(103, R2_DLKcat_100), size=20)\n",
    "sns.lineplot(x=[0,107],y=[0,0], linestyle='--', color = \"grey\")\n",
    "plt.show()"
   ]
  },
  {
   "cell_type": "code",
   "execution_count": 29,
   "metadata": {},
   "outputs": [],
   "source": [
    "##################################################################\n",
    "# analyze Li et al. Fig. 3c\n",
    "##################################################################"
   ]
  },
  {
   "cell_type": "code",
   "execution_count": 30,
   "metadata": {},
   "outputs": [],
   "source": [
    "df3c = pd.read_csv(join( \"..\", \"data\", \"DLkcat\", \"figure_data\", \"figure3c_additional_information.csv\"))"
   ]
  },
  {
   "cell_type": "code",
   "execution_count": 31,
   "metadata": {},
   "outputs": [
    {
     "data": {
      "text/html": [
       "<div>\n",
       "<style scoped>\n",
       "    .dataframe tbody tr th:only-of-type {\n",
       "        vertical-align: middle;\n",
       "    }\n",
       "\n",
       "    .dataframe tbody tr th {\n",
       "        vertical-align: top;\n",
       "    }\n",
       "\n",
       "    .dataframe thead th {\n",
       "        text-align: right;\n",
       "    }\n",
       "</style>\n",
       "<table border=\"1\" class=\"dataframe\">\n",
       "  <thead>\n",
       "    <tr style=\"text-align: right;\">\n",
       "      <th></th>\n",
       "      <th>Substrate name</th>\n",
       "      <th>Organism</th>\n",
       "      <th>EC number</th>\n",
       "      <th>Substrate SMILES</th>\n",
       "      <th>Experimental value (log10 scale)</th>\n",
       "      <th>Predicted value (log10 scale)</th>\n",
       "      <th>Value</th>\n",
       "      <th>Sequence</th>\n",
       "      <th>split</th>\n",
       "      <th>Identity</th>\n",
       "    </tr>\n",
       "  </thead>\n",
       "  <tbody>\n",
       "    <tr>\n",
       "      <th>0</th>\n",
       "      <td>7,8-Dihydrofolate</td>\n",
       "      <td>Escherichia coli</td>\n",
       "      <td>1.5.1.3</td>\n",
       "      <td>C1C(=NC2=C(N1)N=C(NC2=O)N)CNC3=CC=C(C=C3)C(=O)...</td>\n",
       "      <td>1.462398</td>\n",
       "      <td>0.663495</td>\n",
       "      <td>29.0000</td>\n",
       "      <td>MISLIAALAVDRVIGMENAMPWNLPADLAWFKRNTLNKPVIMGRHT...</td>\n",
       "      <td>train</td>\n",
       "      <td>100.0</td>\n",
       "    </tr>\n",
       "    <tr>\n",
       "      <th>1</th>\n",
       "      <td>7,8-Dihydrofolate</td>\n",
       "      <td>Escherichia coli</td>\n",
       "      <td>1.5.1.3</td>\n",
       "      <td>C1C(=NC2=C(N1)N=C(NC2=O)N)CNC3=CC=C(C=C3)C(=O)...</td>\n",
       "      <td>-0.522879</td>\n",
       "      <td>0.273328</td>\n",
       "      <td>0.3000</td>\n",
       "      <td>MISLIAALAVDRVIGMENAMPWNLPADLAWFKRNTLNKPVIMGPHT...</td>\n",
       "      <td>train</td>\n",
       "      <td>100.0</td>\n",
       "    </tr>\n",
       "    <tr>\n",
       "      <th>2</th>\n",
       "      <td>7,8-Dihydrofolate</td>\n",
       "      <td>Escherichia coli</td>\n",
       "      <td>1.5.1.3</td>\n",
       "      <td>C1C(=NC2=C(N1)N=C(NC2=O)N)CNC3=CC=C(C=C3)C(=O)...</td>\n",
       "      <td>-0.161151</td>\n",
       "      <td>-0.070391</td>\n",
       "      <td>0.6900</td>\n",
       "      <td>MISLIAALAVDRVIGMENAMPWNLPADLAWFKRNTLNKPVIMGDHT...</td>\n",
       "      <td>train</td>\n",
       "      <td>100.0</td>\n",
       "    </tr>\n",
       "    <tr>\n",
       "      <th>3</th>\n",
       "      <td>7,8-Dihydrofolate</td>\n",
       "      <td>Escherichia coli</td>\n",
       "      <td>1.5.1.3</td>\n",
       "      <td>C1C(=NC2=C(N1)N=C(NC2=O)N)CNC3=CC=C(C=C3)C(=O)...</td>\n",
       "      <td>-0.008774</td>\n",
       "      <td>0.222462</td>\n",
       "      <td>0.9800</td>\n",
       "      <td>MISLIAALAVDRVIGMENAMPWNLPADLAWFKRNTLNKPVIMGLHT...</td>\n",
       "      <td>train</td>\n",
       "      <td>100.0</td>\n",
       "    </tr>\n",
       "    <tr>\n",
       "      <th>4</th>\n",
       "      <td>7,8-Dihydrofolate</td>\n",
       "      <td>Escherichia coli</td>\n",
       "      <td>1.5.1.3</td>\n",
       "      <td>C1C(=NC2=C(N1)N=C(NC2=O)N)CNC3=CC=C(C=C3)C(=O)...</td>\n",
       "      <td>0.060698</td>\n",
       "      <td>-0.144617</td>\n",
       "      <td>1.1500</td>\n",
       "      <td>MISLIAALAVDRVIGMENAMPWNLPADLAWFKRNTLNKPVIMGIHT...</td>\n",
       "      <td>train</td>\n",
       "      <td>100.0</td>\n",
       "    </tr>\n",
       "    <tr>\n",
       "      <th>...</th>\n",
       "      <td>...</td>\n",
       "      <td>...</td>\n",
       "      <td>...</td>\n",
       "      <td>...</td>\n",
       "      <td>...</td>\n",
       "      <td>...</td>\n",
       "      <td>...</td>\n",
       "      <td>...</td>\n",
       "      <td>...</td>\n",
       "      <td>...</td>\n",
       "    </tr>\n",
       "    <tr>\n",
       "      <th>187</th>\n",
       "      <td>Isopentenyl diphosphate</td>\n",
       "      <td>Saccharomyces cerevisiae</td>\n",
       "      <td>2.5.1.29</td>\n",
       "      <td>CC(=C)CCOP(=O)(O)OP(=O)(O)O</td>\n",
       "      <td>-1.677781</td>\n",
       "      <td>-1.972536</td>\n",
       "      <td>0.0210</td>\n",
       "      <td>MEAKIDGLINNDPVWSSQNESLISKPYNHILLKPGKNFRLNLIVQI...</td>\n",
       "      <td>test</td>\n",
       "      <td>100.0</td>\n",
       "    </tr>\n",
       "    <tr>\n",
       "      <th>188</th>\n",
       "      <td>Isopentenyl diphosphate</td>\n",
       "      <td>Saccharomyces cerevisiae</td>\n",
       "      <td>2.5.1.29</td>\n",
       "      <td>CC(=C)CCOP(=O)(O)OP(=O)(O)O</td>\n",
       "      <td>-2.292430</td>\n",
       "      <td>-2.663252</td>\n",
       "      <td>0.0051</td>\n",
       "      <td>MEAKIDEGINNDPVWSSQNESLISKPYNHILLKPGKNFRLNLIVQI...</td>\n",
       "      <td>train</td>\n",
       "      <td>100.0</td>\n",
       "    </tr>\n",
       "    <tr>\n",
       "      <th>189</th>\n",
       "      <td>Isopentenyl diphosphate</td>\n",
       "      <td>Saccharomyces cerevisiae</td>\n",
       "      <td>2.5.1.29</td>\n",
       "      <td>CC(=C)CCOP(=O)(O)OP(=O)(O)O</td>\n",
       "      <td>-3.207608</td>\n",
       "      <td>-3.715081</td>\n",
       "      <td>0.0006</td>\n",
       "      <td>MEAKIDELGNNDPVWSSQNESLISKPYNHILLKPGKNFRLNLIVQI...</td>\n",
       "      <td>train</td>\n",
       "      <td>100.0</td>\n",
       "    </tr>\n",
       "    <tr>\n",
       "      <th>190</th>\n",
       "      <td>Isopentenyl diphosphate</td>\n",
       "      <td>Saccharomyces cerevisiae</td>\n",
       "      <td>2.5.1.29</td>\n",
       "      <td>CC(=C)CCOP(=O)(O)OP(=O)(O)O</td>\n",
       "      <td>-3.823909</td>\n",
       "      <td>-3.765654</td>\n",
       "      <td>0.0001</td>\n",
       "      <td>MEAKIDELINNDPVWSSQNESLISKPYNHILLKPGKNFRLNLIVQI...</td>\n",
       "      <td>train</td>\n",
       "      <td>100.0</td>\n",
       "    </tr>\n",
       "    <tr>\n",
       "      <th>191</th>\n",
       "      <td>Isopentenyl diphosphate</td>\n",
       "      <td>Saccharomyces cerevisiae</td>\n",
       "      <td>2.5.1.29</td>\n",
       "      <td>CC(=C)CCOP(=O)(O)OP(=O)(O)O</td>\n",
       "      <td>-4.142668</td>\n",
       "      <td>-3.798059</td>\n",
       "      <td>0.0001</td>\n",
       "      <td>MEAKIDELINNDPVWSSQNESLISKPYNHILLKPGKNFRLNLIVQI...</td>\n",
       "      <td>train</td>\n",
       "      <td>100.0</td>\n",
       "    </tr>\n",
       "  </tbody>\n",
       "</table>\n",
       "<p>192 rows × 10 columns</p>\n",
       "</div>"
      ],
      "text/plain": [
       "              Substrate name                  Organism EC number  \\\n",
       "0          7,8-Dihydrofolate          Escherichia coli   1.5.1.3   \n",
       "1          7,8-Dihydrofolate          Escherichia coli   1.5.1.3   \n",
       "2          7,8-Dihydrofolate          Escherichia coli   1.5.1.3   \n",
       "3          7,8-Dihydrofolate          Escherichia coli   1.5.1.3   \n",
       "4          7,8-Dihydrofolate          Escherichia coli   1.5.1.3   \n",
       "..                       ...                       ...       ...   \n",
       "187  Isopentenyl diphosphate  Saccharomyces cerevisiae  2.5.1.29   \n",
       "188  Isopentenyl diphosphate  Saccharomyces cerevisiae  2.5.1.29   \n",
       "189  Isopentenyl diphosphate  Saccharomyces cerevisiae  2.5.1.29   \n",
       "190  Isopentenyl diphosphate  Saccharomyces cerevisiae  2.5.1.29   \n",
       "191  Isopentenyl diphosphate  Saccharomyces cerevisiae  2.5.1.29   \n",
       "\n",
       "                                      Substrate SMILES  \\\n",
       "0    C1C(=NC2=C(N1)N=C(NC2=O)N)CNC3=CC=C(C=C3)C(=O)...   \n",
       "1    C1C(=NC2=C(N1)N=C(NC2=O)N)CNC3=CC=C(C=C3)C(=O)...   \n",
       "2    C1C(=NC2=C(N1)N=C(NC2=O)N)CNC3=CC=C(C=C3)C(=O)...   \n",
       "3    C1C(=NC2=C(N1)N=C(NC2=O)N)CNC3=CC=C(C=C3)C(=O)...   \n",
       "4    C1C(=NC2=C(N1)N=C(NC2=O)N)CNC3=CC=C(C=C3)C(=O)...   \n",
       "..                                                 ...   \n",
       "187                        CC(=C)CCOP(=O)(O)OP(=O)(O)O   \n",
       "188                        CC(=C)CCOP(=O)(O)OP(=O)(O)O   \n",
       "189                        CC(=C)CCOP(=O)(O)OP(=O)(O)O   \n",
       "190                        CC(=C)CCOP(=O)(O)OP(=O)(O)O   \n",
       "191                        CC(=C)CCOP(=O)(O)OP(=O)(O)O   \n",
       "\n",
       "     Experimental value (log10 scale)  Predicted value (log10 scale)    Value  \\\n",
       "0                            1.462398                       0.663495  29.0000   \n",
       "1                           -0.522879                       0.273328   0.3000   \n",
       "2                           -0.161151                      -0.070391   0.6900   \n",
       "3                           -0.008774                       0.222462   0.9800   \n",
       "4                            0.060698                      -0.144617   1.1500   \n",
       "..                                ...                            ...      ...   \n",
       "187                         -1.677781                      -1.972536   0.0210   \n",
       "188                         -2.292430                      -2.663252   0.0051   \n",
       "189                         -3.207608                      -3.715081   0.0006   \n",
       "190                         -3.823909                      -3.765654   0.0001   \n",
       "191                         -4.142668                      -3.798059   0.0001   \n",
       "\n",
       "                                              Sequence  split  Identity  \n",
       "0    MISLIAALAVDRVIGMENAMPWNLPADLAWFKRNTLNKPVIMGRHT...  train     100.0  \n",
       "1    MISLIAALAVDRVIGMENAMPWNLPADLAWFKRNTLNKPVIMGPHT...  train     100.0  \n",
       "2    MISLIAALAVDRVIGMENAMPWNLPADLAWFKRNTLNKPVIMGDHT...  train     100.0  \n",
       "3    MISLIAALAVDRVIGMENAMPWNLPADLAWFKRNTLNKPVIMGLHT...  train     100.0  \n",
       "4    MISLIAALAVDRVIGMENAMPWNLPADLAWFKRNTLNKPVIMGIHT...  train     100.0  \n",
       "..                                                 ...    ...       ...  \n",
       "187  MEAKIDGLINNDPVWSSQNESLISKPYNHILLKPGKNFRLNLIVQI...   test     100.0  \n",
       "188  MEAKIDEGINNDPVWSSQNESLISKPYNHILLKPGKNFRLNLIVQI...  train     100.0  \n",
       "189  MEAKIDELGNNDPVWSSQNESLISKPYNHILLKPGKNFRLNLIVQI...  train     100.0  \n",
       "190  MEAKIDELINNDPVWSSQNESLISKPYNHILLKPGKNFRLNLIVQI...  train     100.0  \n",
       "191  MEAKIDELINNDPVWSSQNESLISKPYNHILLKPGKNFRLNLIVQI...  train     100.0  \n",
       "\n",
       "[192 rows x 10 columns]"
      ]
     },
     "execution_count": 31,
     "metadata": {},
     "output_type": "execute_result"
    }
   ],
   "source": [
    "df3c"
   ]
  },
  {
   "cell_type": "code",
   "execution_count": 32,
   "metadata": {},
   "outputs": [
    {
     "data": {
      "text/plain": [
       "101.0"
      ]
     },
     "execution_count": 32,
     "metadata": {},
     "output_type": "execute_result"
    }
   ],
   "source": [
    "df3c[\"Identity\"][0]+1"
   ]
  },
  {
   "cell_type": "code",
   "execution_count": 35,
   "metadata": {},
   "outputs": [
    {
     "data": {
      "image/png": "[encoded data removed]",
      "text/plain": [
       "<Figure size 720x576 with 1 Axes>"
      ]
     },
     "metadata": {
      "needs_background": "light"
     },
     "output_type": "display_data"
    }
   ],
   "source": [
    "fig, ax = plt.subplots(figsize= (10,8))\n",
    "plt.rcParams.update({'font.size': 28})\n",
    "\n",
    "df3c = pd.read_csv(join( \"..\", \"data\", \"DLkcat\", \"figure_data\", \"figure3c_additional_information.csv\"))\n",
    "test_rows = df3c[df3c[\"split\"] == \"test\"]\n",
    "frac_test_data = len(test_rows) / len(df3c)  # 15.6% of the data was NOT used for training/validation!\n",
    "df3c_s = df3c[[\"Substrate name\", \"Experimental value (log10 scale)\", \"Predicted value (log10 scale)\", \"split\", \"Identity\"]]\n",
    "\n",
    "# z-scaling of mutant data (across all data, but separately for each family based on exp. values):\n",
    "for s in df3c_s[\"Substrate name\"].unique():\n",
    "    idx = df3c_s[\"Substrate name\"] == s\n",
    "    xs = df3c_s[idx]\n",
    "    mean_exp = xs[\"Experimental value (log10 scale)\"].mean()\n",
    "    sd_exp = xs[\"Experimental value (log10 scale)\"].std()\n",
    "    df3c_s.loc[idx, \"experimental.zscaled\"] = (df3c_s.loc[idx, \"Experimental value (log10 scale)\"] - mean_exp) / sd_exp\n",
    "    df3c_s.loc[idx, \"predicted.zscaled\"] = (df3c_s.loc[idx, \"Predicted value (log10 scale)\"] - mean_exp) / sd_exp\n",
    "\n",
    "# Figure 2\n",
    "df3c_s_test = df3c_s[df3c_s[\"split\"] == \"test\"].loc[df3c_s[\"Identity\"]< 100]\n",
    "sns.scatterplot(x=\"experimental.zscaled\", y=\"predicted.zscaled\", hue=\"Substrate name\", data=df3c_s_test, s= 200)\n",
    "\n",
    "df3c_s_test = df3c_s[df3c_s[\"split\"] == \"test\"].loc[df3c_s[\"Identity\"]== 100]\n",
    "sns.scatterplot(x=\"experimental.zscaled\", y=\"predicted.zscaled\", hue=\"Substrate name\",\n",
    "                marker=\"$\\circ$\", ec=\"face\", data=df3c_s_test, s= 400)\n",
    "\n",
    "\n",
    "\n",
    "plt.xlabel(\"z-score for experimental $\\it{k}_{cat}$ value\")\n",
    "plt.ylabel(\"z-score for predicted $\\it{k}_{cat}$ value\")\n",
    "\n",
    "sns.lineplot(x=[-5,2.3],y=[-5,2.3], linestyle='--', color = \"black\")\n",
    "#plt.legend(title=\"Substrate\", bbox_to_anchor=(1, 0.5), frameon = True, fontsize=20)\n",
    "plt.legend(title=\"Substrate\", loc = 'lower left', frameon = True, fontsize=17)\n",
    "plt.xlim(-5, 2.3)\n",
    "plt.ylim(-5, 2.3)\n",
    "plt.show()"
   ]
  },
  {
   "cell_type": "code",
   "execution_count": 34,
   "metadata": {},
   "outputs": [
    {
     "name": "stdout",
     "output_type": "stream",
     "text": [
      "r=0.571 for z-scaled test data\n",
      "R2=0.324 for z-scaled test data\n"
     ]
    }
   ],
   "source": [
    "r, _ = pearsonr(df3c_s_test[\"experimental.zscaled\"], df3c_s_test[\"predicted.zscaled\"])\n",
    "print(f\"r={r:.3f} for z-scaled test data\")\n",
    "\n",
    "\n",
    "r2 = r2_score(df3c_s_test[\"experimental.zscaled\"], df3c_s_test[\"predicted.zscaled\"])\n",
    "print(f\"R2={r2:.3f} for z-scaled test data\")"
   ]
  }
 ],
 "metadata": {
  "kernelspec": {
   "display_name": "Python 3",
   "language": "python",
   "name": "python3"
  },
  "language_info": {
   "codemirror_mode": {
    "name": "ipython",
    "version": 3
   },
   "file_extension": ".py",
   "mimetype": "text/x-python",
   "name": "python",
   "nbconvert_exporter": "python",
   "pygments_lexer": "ipython3",
   "version": "3.7.7"
  }
 },
 "nbformat": 4,
 "nbformat_minor": 4
}
